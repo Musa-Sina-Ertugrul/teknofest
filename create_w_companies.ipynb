{
 "cells": [
  {
   "cell_type": "code",
   "execution_count": 20,
   "metadata": {},
   "outputs": [],
   "source": [
    "import pandas as pd\n",
    "import numpy as np"
   ]
  },
  {
   "cell_type": "code",
   "execution_count": 21,
   "metadata": {},
   "outputs": [],
   "source": [
    "companies = pd.read_csv(\"/home/musasina/projects/teknofest/msnet/datasets/companies.csv\").dropna()"
   ]
  },
  {
   "cell_type": "code",
   "execution_count": 22,
   "metadata": {},
   "outputs": [],
   "source": [
    "companies = companies.convert_dtypes(convert_string=True)"
   ]
  },
  {
   "cell_type": "code",
   "execution_count": 23,
   "metadata": {},
   "outputs": [],
   "source": [
    "companies_array = np.array(companies).flatten()"
   ]
  },
  {
   "cell_type": "code",
   "execution_count": 24,
   "metadata": {},
   "outputs": [],
   "source": [
    "df_train = pd.read_csv(\"/home/musasina/projects/teknofest/msnet/datasets/train_turkish.csv\")"
   ]
  },
  {
   "cell_type": "code",
   "execution_count": 25,
   "metadata": {},
   "outputs": [],
   "source": [
    "def cut_text(text:str):\n",
    "    splitted = str(text).split()\n",
    "    splitted = splitted[:15]\n",
    "    return \" \".join(splitted)"
   ]
  },
  {
   "cell_type": "code",
   "execution_count": 26,
   "metadata": {},
   "outputs": [],
   "source": [
    "df_train[\"text\"] = df_train[\"text\"].map(cut_text)"
   ]
  },
  {
   "cell_type": "code",
   "execution_count": 27,
   "metadata": {},
   "outputs": [],
   "source": [
    "df_train_texts = df_train[\"text\"].to_list()"
   ]
  },
  {
   "cell_type": "code",
   "execution_count": 28,
   "metadata": {},
   "outputs": [],
   "source": [
    "labels = {\"Notr\":0,\"Positive\":2,\"Negative\":1}"
   ]
  },
  {
   "cell_type": "code",
   "execution_count": 29,
   "metadata": {},
   "outputs": [],
   "source": [
    "sentiment = df_train[\"label\"].map(str).to_numpy()"
   ]
  },
  {
   "cell_type": "code",
   "execution_count": 30,
   "metadata": {},
   "outputs": [
    {
     "data": {
      "text/plain": [
       "'Notr'"
      ]
     },
     "execution_count": 30,
     "metadata": {},
     "output_type": "execute_result"
    }
   ],
   "source": [
    "sentiment[0]"
   ]
  },
  {
   "cell_type": "code",
   "execution_count": 31,
   "metadata": {},
   "outputs": [],
   "source": [
    "sentiment = np.apply_along_axis(lambda x : labels[x[0]],axis=1,arr=sentiment.reshape((-1,1)))"
   ]
  },
  {
   "cell_type": "code",
   "execution_count": 32,
   "metadata": {},
   "outputs": [],
   "source": [
    "notr_bow = pd.read_csv(\"/home/musasina/projects/teknofest/msnet/bows/notr_bow.csv\")\n",
    "positive_bow = pd.read_csv(\"/home/musasina/projects/teknofest/msnet/bows/positive_bow.csv\")\n",
    "negative_bow = pd.read_csv(\"/home/musasina/projects/teknofest/msnet/bows/negative_bow.csv\")"
   ]
  },
  {
   "cell_type": "code",
   "execution_count": 33,
   "metadata": {},
   "outputs": [],
   "source": [
    "notr_bow_set = set(notr_bow[\"words\"].map(str).to_list())\n",
    "positive_bow_set = set(positive_bow[\"words\"].map(str).to_list())\n",
    "negative_bow_set = set(negative_bow[\"words\"].map(str).to_list())"
   ]
  },
  {
   "cell_type": "code",
   "execution_count": 34,
   "metadata": {},
   "outputs": [],
   "source": [
    "wrong_bow_set = notr_bow_set.intersection(positive_bow_set,negative_bow)\n",
    "wrong_bow_set_pos_notr = notr_bow_set.intersection(positive_bow_set)\n",
    "wrong_bow_set_pos_neg = negative_bow_set.intersection(positive_bow_set)\n",
    "wrong_bow_set_neg_notr = negative_bow_set.intersection(notr_bow_set)"
   ]
  },
  {
   "cell_type": "code",
   "execution_count": 35,
   "metadata": {},
   "outputs": [
    {
     "name": "stdout",
     "output_type": "stream",
     "text": [
      "9488\n",
      "21008\n",
      "11867\n"
     ]
    }
   ],
   "source": [
    "print(len(wrong_bow_set_pos_notr))\n",
    "print(len(wrong_bow_set_pos_neg))\n",
    "print(len(wrong_bow_set_neg_notr))"
   ]
  },
  {
   "cell_type": "code",
   "execution_count": 36,
   "metadata": {},
   "outputs": [],
   "source": [
    "notr_bow_set -= wrong_bow_set\n",
    "positive_bow_set -= wrong_bow_set\n",
    "negative_bow_set -= wrong_bow_set\n",
    "#----------------------------------\n",
    "notr_bow_set -= wrong_bow_set_pos_notr\n",
    "positive_bow_set -= wrong_bow_set_pos_notr\n",
    "#----------------------------------\n",
    "positive_bow_set -= wrong_bow_set_pos_neg\n",
    "negative_bow_set -= wrong_bow_set_pos_neg\n",
    "#----------------------------------\n",
    "notr_bow_set -= wrong_bow_set_neg_notr\n",
    "negative_bow_set -= wrong_bow_set_neg_notr"
   ]
  },
  {
   "cell_type": "code",
   "execution_count": 37,
   "metadata": {},
   "outputs": [],
   "source": [
    "texts_with_companies = []\n",
    "\n",
    "for text,label in zip(df_train_texts,sentiment):\n",
    "    for _ in range(1):\n",
    "        company = np.random.choice(companies_array)\n",
    "        splitted_text = text.split()\n",
    "        labels = [0]*15\n",
    "        index = np.random.randint(0,len(splitted_text))\n",
    "        for i,word in enumerate(splitted_text):\n",
    "            if word in notr_bow_set:\n",
    "                labels[i]=0\n",
    "            elif word in positive_bow_set:\n",
    "                labels[i]=2\n",
    "            elif word in negative_bow_set:\n",
    "                labels[i]=1\n",
    "        labels.insert(index,label)\n",
    "        splitted_text.insert(index,company)\n",
    "        texts_with_companies.append({\n",
    "            \"text\":\" \".join(splitted_text),\n",
    "            \"labels\":labels\n",
    "        })"
   ]
  },
  {
   "cell_type": "code",
   "execution_count": 38,
   "metadata": {},
   "outputs": [],
   "source": [
    "df_final = pd.DataFrame(texts_with_companies)\n",
    "df_final.to_csv(\"/home/musasina/projects/teknofest/msnet/datasets/train_final.csv\",index=False)"
   ]
  }
 ],
 "metadata": {
  "kernelspec": {
   "display_name": "teknofest",
   "language": "python",
   "name": "python3"
  },
  "language_info": {
   "codemirror_mode": {
    "name": "ipython",
    "version": 3
   },
   "file_extension": ".py",
   "mimetype": "text/x-python",
   "name": "python",
   "nbconvert_exporter": "python",
   "pygments_lexer": "ipython3",
   "version": "3.11.9"
  }
 },
 "nbformat": 4,
 "nbformat_minor": 2
}
