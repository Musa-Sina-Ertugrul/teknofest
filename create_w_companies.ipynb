{
 "cells": [
  {
   "cell_type": "code",
   "execution_count": 178,
   "metadata": {},
   "outputs": [],
   "source": [
    "import pandas as pd\n",
    "import numpy as np\n",
    "import random\n",
    "import sklearn"
   ]
  },
  {
   "cell_type": "code",
   "execution_count": 179,
   "metadata": {},
   "outputs": [],
   "source": [
    "companies = pd.read_csv(\"/home/musasina/projects/teknofest/msnet/datasets/companies.csv\").dropna()"
   ]
  },
  {
   "cell_type": "code",
   "execution_count": 180,
   "metadata": {},
   "outputs": [],
   "source": [
    "companies = companies.convert_dtypes(convert_string=True)"
   ]
  },
  {
   "cell_type": "code",
   "execution_count": 181,
   "metadata": {},
   "outputs": [],
   "source": [
    "companies_array = np.array(companies).flatten()"
   ]
  },
  {
   "cell_type": "code",
   "execution_count": 182,
   "metadata": {},
   "outputs": [],
   "source": [
    "df_train = pd.read_csv(\"/home/musasina/projects/teknofest/msnet/datasets/train_turkish.csv\").convert_dtypes(convert_string=True).dropna()\n",
    "splits = {'train': 'train.csv', 'test': 'test.csv'}\n",
    "df_train = pd.read_csv(\"hf://datasets/winvoker/turkish-sentiment-analysis-dataset/\" + splits[\"test\"])"
   ]
  },
  {
   "cell_type": "code",
   "execution_count": 183,
   "metadata": {},
   "outputs": [
    {
     "name": "stdout",
     "output_type": "stream",
     "text": [
      "140.11768203159215\n",
      "82.0\n"
     ]
    }
   ],
   "source": [
    "length = 0\n",
    "for text in df_train[\"text\"]:\n",
    "    length += len(text)\n",
    "print(length/len(df_train[\"text\"]))\n",
    "\n",
    "all_lengths = []\n",
    "\n",
    "for text in df_train[\"text\"]:\n",
    "    all_lengths.append(len(text))\n",
    "print(np.median(all_lengths))"
   ]
  },
  {
   "cell_type": "code",
   "execution_count": 184,
   "metadata": {},
   "outputs": [],
   "source": [
    "def cut_text(text:str):\n",
    "    splitted = str(text).split()\n",
    "    splitted = splitted[:15]\n",
    "    return \" \".join(splitted)"
   ]
  },
  {
   "cell_type": "code",
   "execution_count": 185,
   "metadata": {},
   "outputs": [],
   "source": [
    "df_train[\"text\"] = df_train[\"text\"].map(cut_text)"
   ]
  },
  {
   "cell_type": "code",
   "execution_count": 186,
   "metadata": {},
   "outputs": [],
   "source": [
    "df_train_texts = df_train[\"text\"].to_list()"
   ]
  },
  {
   "cell_type": "code",
   "execution_count": 187,
   "metadata": {},
   "outputs": [],
   "source": [
    "labels = {\"Notr\":1,\"Positive\":3,\"Negative\":2}"
   ]
  },
  {
   "cell_type": "code",
   "execution_count": 188,
   "metadata": {},
   "outputs": [],
   "source": [
    "sentiment = df_train[\"label\"].map(str).to_numpy()"
   ]
  },
  {
   "cell_type": "code",
   "execution_count": 189,
   "metadata": {},
   "outputs": [
    {
     "data": {
      "text/plain": [
       "'Positive'"
      ]
     },
     "execution_count": 189,
     "metadata": {},
     "output_type": "execute_result"
    }
   ],
   "source": [
    "sentiment[0]"
   ]
  },
  {
   "cell_type": "code",
   "execution_count": 190,
   "metadata": {},
   "outputs": [],
   "source": [
    "sentiment = np.apply_along_axis(lambda x : labels[x[0]],axis=1,arr=sentiment.reshape((-1,1)))"
   ]
  },
  {
   "cell_type": "code",
   "execution_count": 191,
   "metadata": {},
   "outputs": [],
   "source": [
    "notr_bow = pd.read_csv(\"/home/musasina/projects/teknofest/msnet/bows/notr_bow_not_cleared_test.csv\")\n",
    "positive_bow = pd.read_csv(\"/home/musasina/projects/teknofest/msnet/bows/positive_bow_not_cleared_test.csv\")\n",
    "negative_bow = pd.read_csv(\"/home/musasina/projects/teknofest/msnet/bows/negative_bow_not_cleared_test.csv\")"
   ]
  },
  {
   "cell_type": "code",
   "execution_count": 192,
   "metadata": {},
   "outputs": [],
   "source": [
    "notr_bow_set = set(notr_bow[\"words\"].map(str).to_list())\n",
    "positive_bow_set = set(positive_bow[\"words\"].map(str).to_list())\n",
    "negative_bow_set = set(negative_bow[\"words\"].map(str).to_list())"
   ]
  },
  {
   "cell_type": "code",
   "execution_count": 193,
   "metadata": {},
   "outputs": [],
   "source": [
    "wrong_bow_set = notr_bow_set.intersection(positive_bow_set,negative_bow)\n",
    "wrong_bow_set_pos_notr = notr_bow_set.intersection(positive_bow_set)\n",
    "wrong_bow_set_pos_neg = negative_bow_set.intersection(positive_bow_set)\n",
    "wrong_bow_set_neg_notr = negative_bow_set.intersection(notr_bow_set)"
   ]
  },
  {
   "cell_type": "code",
   "execution_count": 194,
   "metadata": {},
   "outputs": [
    {
     "name": "stdout",
     "output_type": "stream",
     "text": [
      "11444\n",
      "20136\n",
      "8921\n"
     ]
    }
   ],
   "source": [
    "print(len(wrong_bow_set_pos_notr))\n",
    "print(len(wrong_bow_set_pos_neg))\n",
    "print(len(wrong_bow_set_neg_notr))"
   ]
  },
  {
   "cell_type": "code",
   "execution_count": 195,
   "metadata": {},
   "outputs": [],
   "source": [
    "random.seed(42)"
   ]
  },
  {
   "cell_type": "code",
   "execution_count": 196,
   "metadata": {},
   "outputs": [],
   "source": [
    "notr_bow_set -= wrong_bow_set\n",
    "positive_bow_set -= wrong_bow_set\n",
    "negative_bow_set -= wrong_bow_set\n",
    "#----------------------------------\n",
    "positive_bow_set -= set(random.sample(list(wrong_bow_set_pos_neg),len(wrong_bow_set_pos_neg)//2))\n",
    "negative_bow_set -= set(random.sample(list(wrong_bow_set_neg_notr),len(wrong_bow_set_neg_notr)//2))\n",
    "positive_bow_set -= set(random.sample(list(wrong_bow_set_pos_notr),len(wrong_bow_set_pos_notr)//2))\n",
    "#----------------------------------"
   ]
  },
  {
   "cell_type": "code",
   "execution_count": 197,
   "metadata": {},
   "outputs": [
    {
     "name": "stdout",
     "output_type": "stream",
     "text": [
      "23455\n",
      "30451\n",
      "21362\n"
     ]
    }
   ],
   "source": [
    "print(len(notr_bow_set))\n",
    "print(len(positive_bow_set))\n",
    "print(len(negative_bow_set))"
   ]
  },
  {
   "cell_type": "code",
   "execution_count": 198,
   "metadata": {},
   "outputs": [],
   "source": [
    "texts_with_companies = []\n",
    "\n",
    "for text,label in zip(df_train_texts,sentiment):\n",
    "    for _ in range(1):\n",
    "        splitted_text = text.split()[:15]\n",
    "        if len(splitted_text) == 15:\n",
    "            index = np.random.randint(0,len(splitted_text))\n",
    "            company = np.random.choice(companies_array)\n",
    "            labels = [0]*15\n",
    "            for i,word in enumerate(splitted_text):\n",
    "                if word in notr_bow_set:\n",
    "                    labels[i]=1\n",
    "                if word in negative_bow_set:\n",
    "                    labels[i]=2\n",
    "                if word in positive_bow_set:\n",
    "                    labels[i]=3\n",
    "            labels.insert(index,label)\n",
    "            splitted_text.insert(index,company)\n",
    "            texts_with_companies.append({\n",
    "                \"text\":\" \".join(splitted_text),\n",
    "                \"sentiment\":label,\n",
    "                \"labels\":labels\n",
    "            })"
   ]
  },
  {
   "cell_type": "code",
   "execution_count": 199,
   "metadata": {},
   "outputs": [],
   "source": [
    "import sklearn.utils\n",
    "\n",
    "\n",
    "df_final = sklearn.utils.shuffle(pd.DataFrame(texts_with_companies),random_state=42)\n",
    "df_final.to_csv(\"/home/musasina/projects/teknofest/msnet/datasets/test_final.csv\",index=False)"
   ]
  }
 ],
 "metadata": {
  "kernelspec": {
   "display_name": "teknofest",
   "language": "python",
   "name": "python3"
  },
  "language_info": {
   "codemirror_mode": {
    "name": "ipython",
    "version": 3
   },
   "file_extension": ".py",
   "mimetype": "text/x-python",
   "name": "python",
   "nbconvert_exporter": "python",
   "pygments_lexer": "ipython3",
   "version": "3.11.9"
  }
 },
 "nbformat": 4,
 "nbformat_minor": 2
}
