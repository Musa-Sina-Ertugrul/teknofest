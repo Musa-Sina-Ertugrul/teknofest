{
 "cells": [
  {
   "cell_type": "code",
   "execution_count": 21,
   "metadata": {},
   "outputs": [],
   "source": [
    "import pandas as pd\n",
    "import numpy as np\n",
    "import random\n",
    "import sklearn\n",
    "from copy import deepcopy"
   ]
  },
  {
   "cell_type": "code",
   "execution_count": 22,
   "metadata": {},
   "outputs": [],
   "source": [
    "companies = pd.read_csv(\"/home/musasina/projects/teknofest/msnet/datasets/companies.csv\").dropna()"
   ]
  },
  {
   "cell_type": "code",
   "execution_count": 23,
   "metadata": {},
   "outputs": [],
   "source": [
    "companies = companies.convert_dtypes(convert_string=True)"
   ]
  },
  {
   "cell_type": "code",
   "execution_count": 24,
   "metadata": {},
   "outputs": [],
   "source": [
    "companies_array = np.array(companies).flatten()"
   ]
  },
  {
   "cell_type": "code",
   "execution_count": 25,
   "metadata": {},
   "outputs": [],
   "source": [
    "df_train = pd.read_csv(\"/home/musasina/projects/teknofest/msnet/datasets/train_turkish.csv\").convert_dtypes(convert_string=True).dropna()\n",
    "splits = {'train': 'train.csv', 'test': 'test.csv'}\n",
    "df_train = pd.read_csv(\"hf://datasets/winvoker/turkish-sentiment-analysis-dataset/\" + splits[\"test\"])"
   ]
  },
  {
   "cell_type": "code",
   "execution_count": 26,
   "metadata": {},
   "outputs": [
    {
     "name": "stdout",
     "output_type": "stream",
     "text": [
      "140.11768203159215\n",
      "82.0\n"
     ]
    }
   ],
   "source": [
    "length = 0\n",
    "for text in df_train[\"text\"]:\n",
    "    length += len(text)\n",
    "print(length/len(df_train[\"text\"]))\n",
    "\n",
    "all_lengths = []\n",
    "\n",
    "for text in df_train[\"text\"]:\n",
    "    all_lengths.append(len(text))\n",
    "print(np.median(all_lengths))"
   ]
  },
  {
   "cell_type": "code",
   "execution_count": 27,
   "metadata": {},
   "outputs": [],
   "source": [
    "df_train_texts = df_train[\"text\"].to_list()"
   ]
  },
  {
   "cell_type": "code",
   "execution_count": 28,
   "metadata": {},
   "outputs": [],
   "source": [
    "labels = {\"Notr\":1,\"Positive\":3,\"Negative\":2}"
   ]
  },
  {
   "cell_type": "code",
   "execution_count": 29,
   "metadata": {},
   "outputs": [],
   "source": [
    "sentiment = df_train[\"label\"].map(str).to_numpy()"
   ]
  },
  {
   "cell_type": "code",
   "execution_count": 30,
   "metadata": {},
   "outputs": [
    {
     "data": {
      "text/plain": [
       "'Positive'"
      ]
     },
     "execution_count": 30,
     "metadata": {},
     "output_type": "execute_result"
    }
   ],
   "source": [
    "sentiment[0]"
   ]
  },
  {
   "cell_type": "code",
   "execution_count": 31,
   "metadata": {},
   "outputs": [],
   "source": [
    "sentiment = np.apply_along_axis(lambda x : labels[x[0]],axis=1,arr=sentiment.reshape((-1,1)))"
   ]
  },
  {
   "cell_type": "code",
   "execution_count": 32,
   "metadata": {},
   "outputs": [],
   "source": [
    "notr_bow = pd.read_csv(\"/home/musasina/projects/teknofest/msnet/bows/notr_bow_not_cleared_test.csv\")\n",
    "positive_bow = pd.read_csv(\"/home/musasina/projects/teknofest/msnet/bows/positive_bow_not_cleared_test.csv\")\n",
    "negative_bow = pd.read_csv(\"/home/musasina/projects/teknofest/msnet/bows/negative_bow_not_cleared_test.csv\")"
   ]
  },
  {
   "cell_type": "code",
   "execution_count": 33,
   "metadata": {},
   "outputs": [],
   "source": [
    "notr_bow_set = set(notr_bow[\"words\"].map(str).to_list())\n",
    "positive_bow_set = set(positive_bow[\"words\"].map(str).to_list())\n",
    "negative_bow_set = set(negative_bow[\"words\"].map(str).to_list())"
   ]
  },
  {
   "cell_type": "code",
   "execution_count": 34,
   "metadata": {},
   "outputs": [],
   "source": [
    "wrong_bow_set = notr_bow_set.intersection(positive_bow_set,negative_bow)\n",
    "wrong_bow_set_pos_notr = notr_bow_set.intersection(positive_bow_set)\n",
    "wrong_bow_set_pos_neg = negative_bow_set.intersection(positive_bow_set)\n",
    "wrong_bow_set_neg_notr = negative_bow_set.intersection(notr_bow_set)"
   ]
  },
  {
   "cell_type": "code",
   "execution_count": 35,
   "metadata": {},
   "outputs": [
    {
     "name": "stdout",
     "output_type": "stream",
     "text": [
      "2719\n",
      "5281\n",
      "2057\n"
     ]
    }
   ],
   "source": [
    "print(len(wrong_bow_set_pos_notr))\n",
    "print(len(wrong_bow_set_pos_neg))\n",
    "print(len(wrong_bow_set_neg_notr))"
   ]
  },
  {
   "cell_type": "code",
   "execution_count": 36,
   "metadata": {},
   "outputs": [],
   "source": [
    "random.seed(42)"
   ]
  },
  {
   "cell_type": "code",
   "execution_count": 37,
   "metadata": {},
   "outputs": [],
   "source": [
    "notr_bow_set -= wrong_bow_set\n",
    "positive_bow_set -= wrong_bow_set\n",
    "negative_bow_set -= wrong_bow_set\n",
    "#----------------------------------\n",
    "#positive_bow_set -= set(random.sample(list(wrong_bow_set_pos_neg),len(wrong_bow_set_pos_neg)//2))\n",
    "negative_bow_set -= set(random.sample(list(wrong_bow_set_neg_notr),len(wrong_bow_set_neg_notr)//2))\n",
    "positive_bow_set -= set(random.sample(list(wrong_bow_set_pos_notr),len(wrong_bow_set_pos_notr)//2))\n",
    "#----------------------------------"
   ]
  },
  {
   "cell_type": "code",
   "execution_count": 38,
   "metadata": {},
   "outputs": [
    {
     "name": "stdout",
     "output_type": "stream",
     "text": [
      "5460\n",
      "11457\n",
      "5397\n"
     ]
    }
   ],
   "source": [
    "print(len(notr_bow_set))\n",
    "print(len(positive_bow_set))\n",
    "print(len(negative_bow_set))"
   ]
  },
  {
   "cell_type": "code",
   "execution_count": 39,
   "metadata": {},
   "outputs": [],
   "source": [
    "texts_with_companies = []\n",
    "\n",
    "for text,label in zip(df_train_texts,sentiment):\n",
    "    left = 0\n",
    "    right = 31\n",
    "    seperated_texts = []\n",
    "    splitted_text = text.split()\n",
    "    while left<right:\n",
    "        truncated_text = splitted_text[left:right]\n",
    "        if len(truncated_text) == 0:\n",
    "            break\n",
    "        seperated_texts.append(truncated_text)\n",
    "        left = deepcopy(right)\n",
    "        right += 31\n",
    "    for truncated_text in seperated_texts:\n",
    "        index = np.random.randint(0,len(truncated_text))\n",
    "        company = np.random.choice(companies_array)\n",
    "        labels = [0]*31\n",
    "        for i,word in enumerate(truncated_text):\n",
    "            if word in notr_bow_set:\n",
    "                labels[i]=1\n",
    "            if label == 2:\n",
    "                if word in negative_bow_set:\n",
    "                    labels[i]=2\n",
    "            elif label == 3:\n",
    "                if word in positive_bow_set:\n",
    "                    labels[i]=3\n",
    "        labels.insert(index,label)\n",
    "        truncated_text.insert(index,company)\n",
    "        texts_with_companies.append({\n",
    "            \"text\":\" \".join(truncated_text),\n",
    "            \"sentiment\":label,\n",
    "            \"labels\":labels\n",
    "        })"
   ]
  },
  {
   "cell_type": "code",
   "execution_count": 40,
   "metadata": {},
   "outputs": [],
   "source": [
    "import sklearn.utils\n",
    "\n",
    "\n",
    "df_final = sklearn.utils.shuffle(pd.DataFrame(texts_with_companies),random_state=42)\n",
    "df_final.to_csv(\"/home/musasina/projects/teknofest/msnet/datasets/test_final.csv\",index=False)"
   ]
  }
 ],
 "metadata": {
  "kernelspec": {
   "display_name": "teknofest",
   "language": "python",
   "name": "python3"
  },
  "language_info": {
   "codemirror_mode": {
    "name": "ipython",
    "version": 3
   },
   "file_extension": ".py",
   "mimetype": "text/x-python",
   "name": "python",
   "nbconvert_exporter": "python",
   "pygments_lexer": "ipython3",
   "version": "3.11.9"
  }
 },
 "nbformat": 4,
 "nbformat_minor": 2
}
