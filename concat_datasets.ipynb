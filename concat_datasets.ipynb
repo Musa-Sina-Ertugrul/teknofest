{
 "cells": [
  {
   "cell_type": "code",
   "execution_count": 29,
   "metadata": {},
   "outputs": [],
   "source": [
    "import pandas as pd"
   ]
  },
  {
   "cell_type": "code",
   "execution_count": 33,
   "metadata": {},
   "outputs": [],
   "source": [
    "df_1 = pd.DataFrame(data=[],columns=[\"text\",\"label\"])\n",
    "df_2 = pd.read_csv(\"msnet/datasets/e-ticaret_urun_yorumlari_fixed (1).csv\").convert_dtypes(convert_string=True)"
   ]
  },
  {
   "cell_type": "code",
   "execution_count": 34,
   "metadata": {},
   "outputs": [],
   "source": [
    "df_2[\"Durum\"] = df_2[\"Durum\"].map(int)"
   ]
  },
  {
   "cell_type": "code",
   "execution_count": 39,
   "metadata": {},
   "outputs": [],
   "source": [
    "df_1[\"text\"] = df_2[\"Metin\"].to_list()\n",
    "df_1[\"label\"] = df_2[\"Durum\"].to_list()"
   ]
  },
  {
   "cell_type": "code",
   "execution_count": 44,
   "metadata": {},
   "outputs": [],
   "source": [
    "df_3 = pd.read_csv(\"/home/musasina/projects/teknofest/msnet/datasets/yasemin_data.csv\")\n",
    "pd.concat((df_1,df_3),ignore_index=True).to_csv(\"/home/musasina/projects/teknofest/msnet/datasets/yasemin_data.csv\",index=False)"
   ]
  },
  {
   "cell_type": "code",
   "execution_count": null,
   "metadata": {},
   "outputs": [],
   "source": [
    "a = "
   ]
  },
  {
   "cell_type": "code",
   "execution_count": 43,
   "metadata": {},
   "outputs": [],
   "source": [
    "with open(\"/home/musasina/projects/teknofest/msnet/datasets/[SubtitleTools.com] magaza_yorumlarifixed.csv\",\"r\") as read_file_1, open(\"/home/musasina/projects/teknofest/msnet/datasets/[SubtitleTools.com] magaza_yorumlari_duygu_analizifixed.csv\",\"r\") as read_file_2, open(\"/home/musasina/projects/teknofest/msnet/datasets/yasemin_data.csv\",\"w\") as write_file:\n",
    "    next(read_file_1)\n",
    "    next(read_file_2)\n",
    "    write_file.write(\"text,label\\n\")\n",
    "    is_valid_1 = True\n",
    "    is_valid_2 = True\n",
    "    for row_1,row_2 in zip(read_file_1,read_file_2):\n",
    "        splitted_row_1 = row_1.strip().strip(\"\\\"\").split(\",\")\n",
    "        splitted_row_2 = row_2.strip().strip(\"\\\"\").split(\",\")\n",
    "        concated_row_1 = \" \".join(splitted_row_1[:-1])\n",
    "        concated_row_2 = \" \".join(splitted_row_2[:-1])\n",
    "        try:\n",
    "            concated_row_1 += \",\" + str(int(splitted_row_1[-1])) + \"\\n\"\n",
    "            is_valid_1 = True\n",
    "        except ValueError:\n",
    "            is_valid_1 = False\n",
    "        try:\n",
    "            concated_row_2 += \",\" + str(int(splitted_row_2[-1])) + \"\\n\"\n",
    "            is_valid_2 = True\n",
    "        except ValueError:\n",
    "            is_valid_2 = False\n",
    "        if len(splitted_row_1) > 1 and is_valid_1:\n",
    "            write_file.write(concated_row_1)\n",
    "        if len(splitted_row_2) > 1 and is_valid_2:\n",
    "            write_file.write(concated_row_2)"
   ]
  }
 ],
 "metadata": {
  "kernelspec": {
   "display_name": "teknofest",
   "language": "python",
   "name": "python3"
  },
  "language_info": {
   "codemirror_mode": {
    "name": "ipython",
    "version": 3
   },
   "file_extension": ".py",
   "mimetype": "text/x-python",
   "name": "python",
   "nbconvert_exporter": "python",
   "pygments_lexer": "ipython3",
   "version": "3.11.9"
  }
 },
 "nbformat": 4,
 "nbformat_minor": 2
}
