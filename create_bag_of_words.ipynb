{
 "cells": [
  {
   "cell_type": "code",
   "execution_count": 1,
   "metadata": {},
   "outputs": [],
   "source": [
    "from sklearn.feature_extraction.text import CountVectorizer\n",
    "import pandas as pd"
   ]
  },
  {
   "cell_type": "code",
   "execution_count": 2,
   "metadata": {},
   "outputs": [],
   "source": [
    "splits = {'train': 'train.csv', 'test': 'test.csv'}\n",
    "data = pd.read_csv(\"hf://datasets/winvoker/turkish-sentiment-analysis-dataset/\" + splits[\"train\"])\n",
    "data_2 = pd.read_csv(\"hf://datasets/winvoker/turkish-sentiment-analysis-dataset/\" + splits[\"test\"])\n",
    "data = pd.concat((data,data_2),ignore_index=True)"
   ]
  },
  {
   "cell_type": "code",
   "execution_count": 3,
   "metadata": {},
   "outputs": [],
   "source": [
    "data = data.dropna()"
   ]
  },
  {
   "cell_type": "code",
   "execution_count": 4,
   "metadata": {},
   "outputs": [],
   "source": [
    "# Separate the data by labels\n",
    "positive_texts = data[data['label'] == 'Positive']\n",
    "negative_texts = data[data['label'] == 'Negative']\n",
    "notr_texts = data[data['label'] == 'Notr']\n",
    "df_yasemin = pd.read_csv(\"/home/musasina/projects/teknofest/msnet/datasets/yasemin_data.csv\")\n",
    "df_yasemin_notr = df_yasemin[df_yasemin[\"label\"]==1].map(str)\n",
    "df_yasemin_neg = df_yasemin[df_yasemin[\"label\"]==2].map(str)\n",
    "df_yasemin_pos = df_yasemin[df_yasemin[\"label\"]==3].map(str)\n",
    "df_yasemin_notr[df_yasemin_notr[\"label\"]==1] = \"Notr\"\n",
    "df_yasemin_neg[df_yasemin_neg[\"label\"]==2] = \"Negative\"\n",
    "df_yasemin_pos[df_yasemin_pos[\"label\"]==3] = \"Positive\"\n",
    "df_emre = pd.read_csv(\"/home/musasina/projects/teknofest/msnet/datasets/emre_data.csv\")\n",
    "df_emre_notr = df_emre[df_emre[\"label\"]==1].map(str)\n",
    "df_emre_neg = df_emre[df_emre[\"label\"]==2].map(str)\n",
    "df_emre_pos = df_emre[df_emre[\"label\"]==3].map(str)\n",
    "df_emre_notr[df_emre_notr[\"label\"]==1] = \"Notr\"\n",
    "df_emre_neg[df_emre_neg[\"label\"]==2] = \"Negative\"\n",
    "df_emre_pos[df_emre_pos[\"label\"]==3] = \"Positive\"\n",
    "data.drop(\"dataset\",axis=1)\n",
    "data.drop(\"dataset\",axis=1)\n",
    "data.drop(\"dataset\",axis=1)\n",
    "data = pd.concat((positive_texts,negative_texts,notr_texts,df_yasemin_notr,df_yasemin_neg,df_yasemin_pos,df_emre_pos,df_emre_neg,df_emre_notr),ignore_index=True)\n",
    "# Function to create a bag of words\n",
    "def create_bag_of_words(texts):\n",
    "    vectorizer = CountVectorizer()\n",
    "    X = vectorizer.fit_transform(texts)\n",
    "    bag_of_words = list(vectorizer.vocabulary_)\n",
    "    bag_of_words = pd.DataFrame(bag_of_words, columns=[\"words\"])\n",
    "    return bag_of_words\n",
    "\n",
    "# Create bag of words for each label\n",
    "positive_bow = create_bag_of_words(data[data[\"label\"]==\"Positive\"][\"text\"])\n",
    "negative_bow = create_bag_of_words(data[data[\"label\"]==\"Negative\"][\"text\"])\n",
    "notr_bow = create_bag_of_words(data[data[\"label\"]==\"Notr\"][\"text\"])\n",
    "\n",
    "# Saving the bag of words to CSV files\n",
    "positive_bow.to_csv('/home/musasina/projects/teknofest/msnet/bows/positive_bow_not_cleared.csv', index=False)\n",
    "negative_bow.to_csv('/home/musasina/projects/teknofest/msnet/bows/negative_bow_not_cleared.csv', index=False)\n",
    "notr_bow.to_csv('/home/musasina/projects/teknofest/msnet/bows/notr_bow_not_cleared.csv', index=False)"
   ]
  }
 ],
 "metadata": {
  "kernelspec": {
   "display_name": "teknofest",
   "language": "python",
   "name": "python3"
  },
  "language_info": {
   "codemirror_mode": {
    "name": "ipython",
    "version": 3
   },
   "file_extension": ".py",
   "mimetype": "text/x-python",
   "name": "python",
   "nbconvert_exporter": "python",
   "pygments_lexer": "ipython3",
   "version": "3.11.9"
  }
 },
 "nbformat": 4,
 "nbformat_minor": 2
}
