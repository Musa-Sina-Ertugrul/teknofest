{
 "cells": [
  {
   "cell_type": "code",
   "execution_count": 6,
   "metadata": {},
   "outputs": [],
   "source": [
    "from sklearn.feature_extraction.text import CountVectorizer\n",
    "import pandas as pd"
   ]
  },
  {
   "cell_type": "code",
   "execution_count": 7,
   "metadata": {},
   "outputs": [],
   "source": [
    "data = pd.read_csv(\"/home/musasina/projects/teknofest/msnet/datasets/train_turkish.csv\")"
   ]
  },
  {
   "cell_type": "code",
   "execution_count": 8,
   "metadata": {},
   "outputs": [],
   "source": [
    "splits = {'train': 'train.csv', 'test': 'test.csv'}\n",
    "data = pd.read_csv(\"hf://datasets/winvoker/turkish-sentiment-analysis-dataset/\" + splits[\"test\"])"
   ]
  },
  {
   "cell_type": "code",
   "execution_count": 9,
   "metadata": {},
   "outputs": [],
   "source": [
    "data = data.dropna()"
   ]
  },
  {
   "cell_type": "code",
   "execution_count": 10,
   "metadata": {},
   "outputs": [],
   "source": [
    "# Separate the data by labels\n",
    "positive_texts = data[data['label'] == 'Positive']['text']\n",
    "negative_texts = data[data['label'] == 'Negative']['text']\n",
    "notr_texts = data[data['label'] == 'Notr']['text']\n",
    "\n",
    "# Function to create a bag of words\n",
    "def create_bag_of_words(texts):\n",
    "    vectorizer = CountVectorizer()\n",
    "    X = vectorizer.fit_transform(texts)\n",
    "    counts = X.sum(axis=0) > 5\n",
    "    bag_of_words = vectorizer.get_feature_names_out().reshape((1,-1))[counts]\n",
    "    bag_of_words = pd.DataFrame(bag_of_words, columns=[\"words\"])\n",
    "    return bag_of_words\n",
    "\n",
    "# Create bag of words for each label\n",
    "positive_bow = create_bag_of_words(positive_texts)\n",
    "negative_bow = create_bag_of_words(negative_texts)\n",
    "notr_bow = create_bag_of_words(notr_texts)\n",
    "\n",
    "# Saving the bag of words to CSV files\n",
    "positive_bow.to_csv('/home/musasina/projects/teknofest/msnet/bows/positive_bow_not_cleared_test.csv', index=False)\n",
    "negative_bow.to_csv('/home/musasina/projects/teknofest/msnet/bows/negative_bow_not_cleared_test.csv', index=False)\n",
    "notr_bow.to_csv('/home/musasina/projects/teknofest/msnet/bows/notr_bow_not_cleared_test.csv', index=False)"
   ]
  }
 ],
 "metadata": {
  "kernelspec": {
   "display_name": "teknofest",
   "language": "python",
   "name": "python3"
  },
  "language_info": {
   "codemirror_mode": {
    "name": "ipython",
    "version": 3
   },
   "file_extension": ".py",
   "mimetype": "text/x-python",
   "name": "python",
   "nbconvert_exporter": "python",
   "pygments_lexer": "ipython3",
   "version": "3.11.9"
  }
 },
 "nbformat": 4,
 "nbformat_minor": 2
}
